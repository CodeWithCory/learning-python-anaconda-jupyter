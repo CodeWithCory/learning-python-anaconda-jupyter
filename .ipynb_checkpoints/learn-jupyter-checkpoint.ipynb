{
 "cells": [
  {
   "cell_type": "markdown",
   "metadata": {},
   "source": [
    "# Learn-Jupyter\n",
    "\n",
    "Author: Cory Leigh Rahman\n",
    "Kernel: `Python (jupyter test)` \n",
    "\n",
    "This Jupyter Notebook is a testing ground for learning and experimenting with Jupyter Notebooks."
   ]
  },
  {
   "cell_type": "code",
   "execution_count": null,
   "metadata": {},
   "outputs": [],
   "source": [
    "import pandas\n",
    "import geopandas\n",
    "\n",
    "def helloWorld() :\n",
    "    print(\"Hello world!\")\n",
    "helloWorld()"
   ]
  }
 ],
 "metadata": {
  "kernelspec": {
   "display_name": "Python (jupyter test)",
   "language": "python",
   "name": "myenv"
  },
  "language_info": {
   "codemirror_mode": {
    "name": "ipython",
    "version": 3
   },
   "file_extension": ".py",
   "mimetype": "text/x-python",
   "name": "python",
   "nbconvert_exporter": "python",
   "pygments_lexer": "ipython3",
   "version": "3.7.3"
  }
 },
 "nbformat": 4,
 "nbformat_minor": 2
}
